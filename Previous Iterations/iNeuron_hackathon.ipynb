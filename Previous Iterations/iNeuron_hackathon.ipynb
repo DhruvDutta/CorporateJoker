{
  "nbformat": 4,
  "nbformat_minor": 0,
  "metadata": {
    "colab": {
      "provenance": [],
      "collapsed_sections": []
    },
    "kernelspec": {
      "name": "python3",
      "display_name": "Python 3"
    },
    "language_info": {
      "name": "python"
    },
    "accelerator": "GPU",
    "gpuClass": "standard"
  },
  "cells": [
    {
      "cell_type": "markdown",
      "source": [
        "#Installing Requirements"
      ],
      "metadata": {
        "id": "0x7jR0aDU4ve"
      }
    },
    {
      "cell_type": "code",
      "source": [
        "!pip install clean-text\n",
        "!pip install Unidecode"
      ],
      "metadata": {
        "colab": {
          "base_uri": "https://localhost:8080/"
        },
        "id": "aQZAQRatBbFA",
        "outputId": "dbb6f957-36a5-4a6e-8156-d70e50b17645"
      },
      "execution_count": null,
      "outputs": [
        {
          "output_type": "stream",
          "name": "stdout",
          "text": [
            "Looking in indexes: https://pypi.org/simple, https://us-python.pkg.dev/colab-wheels/public/simple/\n",
            "Requirement already satisfied: clean-text in /usr/local/lib/python3.7/dist-packages (0.6.0)\n",
            "Requirement already satisfied: ftfy<7.0,>=6.0 in /usr/local/lib/python3.7/dist-packages (from clean-text) (6.1.1)\n",
            "Requirement already satisfied: emoji<2.0.0,>=1.0.0 in /usr/local/lib/python3.7/dist-packages (from clean-text) (1.7.0)\n",
            "Requirement already satisfied: wcwidth>=0.2.5 in /usr/local/lib/python3.7/dist-packages (from ftfy<7.0,>=6.0->clean-text) (0.2.5)\n",
            "Looking in indexes: https://pypi.org/simple, https://us-python.pkg.dev/colab-wheels/public/simple/\n",
            "Requirement already satisfied: Unidecode in /usr/local/lib/python3.7/dist-packages (1.3.4)\n"
          ]
        }
      ]
    },
    {
      "cell_type": "code",
      "source": [
        "import tensorflow as tf\n",
        "import re"
      ],
      "metadata": {
        "id": "DcB0KQ5o7ZsJ"
      },
      "execution_count": null,
      "outputs": []
    },
    {
      "cell_type": "markdown",
      "source": [
        "#Loading Dataset"
      ],
      "metadata": {
        "id": "GZioMjgTU-sI"
      }
    },
    {
      "cell_type": "code",
      "source": [
        "!unzip '/content/jokes.zip' -d '/content/'"
      ],
      "metadata": {
        "id": "JK81p8BCZsVB",
        "colab": {
          "base_uri": "https://localhost:8080/"
        },
        "outputId": "c69c47df-2f64-4524-dbe0-2cfac3018e8e"
      },
      "execution_count": null,
      "outputs": [
        {
          "output_type": "stream",
          "name": "stdout",
          "text": [
            "Archive:  /content/jokes.zip\n",
            "  inflating: /content/jokes.csv      \n"
          ]
        }
      ]
    },
    {
      "cell_type": "code",
      "source": [
        "import pandas as pd\n",
        "df=pd.read_csv('/content/jokes.csv')\n",
        "#df = pd.read_csv('https://query.data.world/s/a4a3wz2r4x2n7adsgfky3eyxrd6jsp')"
      ],
      "metadata": {
        "id": "CpQ4RM1ScEwa"
      },
      "execution_count": null,
      "outputs": []
    },
    {
      "cell_type": "code",
      "source": [
        "#!wget https://raw.githubusercontent.com/taivop/joke-dataset/master/reddit_jokes.json"
      ],
      "metadata": {
        "id": "jU0PZhNd500I"
      },
      "execution_count": null,
      "outputs": []
    },
    {
      "cell_type": "code",
      "source": [
        "#import json\n",
        "#with open(r\"reddit_jokes.json\", \"r\") as read_file:\n",
        "#    train = pd.DataFrame(json.load(read_file))"
      ],
      "metadata": {
        "id": "0i_OsAMu50xl"
      },
      "execution_count": null,
      "outputs": []
    },
    {
      "cell_type": "code",
      "source": [
        "#df = train"
      ],
      "metadata": {
        "id": "7-0k5wi66C0d"
      },
      "execution_count": null,
      "outputs": []
    },
    {
      "cell_type": "code",
      "source": [
        "df.head()"
      ],
      "metadata": {
        "colab": {
          "base_uri": "https://localhost:8080/",
          "height": 206
        },
        "id": "9A4mZY2mcMiB",
        "outputId": "c6b9661b-cbf2-4bd4-9051-2889a4335155"
      },
      "execution_count": null,
      "outputs": [
        {
          "output_type": "execute_result",
          "data": {
            "text/plain": [
              "   ID                                           Question  \\\n",
              "0   1  Did you hear about the Native American man tha...   \n",
              "1   2       What's the best anti diarrheal prescription?   \n",
              "2   3  What do you call a person who is outside a doo...   \n",
              "3   4  Which Star Trek character is a member of the m...   \n",
              "4   5  What's the difference between a bullet and a h...   \n",
              "\n",
              "                                Answer  \n",
              "0  He nearly drown in his own tea pee.  \n",
              "1                     Mycheexarphlexin  \n",
              "2                                 Matt  \n",
              "3                   Jean-Luc Pickacard  \n",
              "4        A bullet doesn't miss Harambe  "
            ],
            "text/html": [
              "\n",
              "  <div id=\"df-3191e962-f149-4682-9105-622958e72c0c\">\n",
              "    <div class=\"colab-df-container\">\n",
              "      <div>\n",
              "<style scoped>\n",
              "    .dataframe tbody tr th:only-of-type {\n",
              "        vertical-align: middle;\n",
              "    }\n",
              "\n",
              "    .dataframe tbody tr th {\n",
              "        vertical-align: top;\n",
              "    }\n",
              "\n",
              "    .dataframe thead th {\n",
              "        text-align: right;\n",
              "    }\n",
              "</style>\n",
              "<table border=\"1\" class=\"dataframe\">\n",
              "  <thead>\n",
              "    <tr style=\"text-align: right;\">\n",
              "      <th></th>\n",
              "      <th>ID</th>\n",
              "      <th>Question</th>\n",
              "      <th>Answer</th>\n",
              "    </tr>\n",
              "  </thead>\n",
              "  <tbody>\n",
              "    <tr>\n",
              "      <th>0</th>\n",
              "      <td>1</td>\n",
              "      <td>Did you hear about the Native American man tha...</td>\n",
              "      <td>He nearly drown in his own tea pee.</td>\n",
              "    </tr>\n",
              "    <tr>\n",
              "      <th>1</th>\n",
              "      <td>2</td>\n",
              "      <td>What's the best anti diarrheal prescription?</td>\n",
              "      <td>Mycheexarphlexin</td>\n",
              "    </tr>\n",
              "    <tr>\n",
              "      <th>2</th>\n",
              "      <td>3</td>\n",
              "      <td>What do you call a person who is outside a doo...</td>\n",
              "      <td>Matt</td>\n",
              "    </tr>\n",
              "    <tr>\n",
              "      <th>3</th>\n",
              "      <td>4</td>\n",
              "      <td>Which Star Trek character is a member of the m...</td>\n",
              "      <td>Jean-Luc Pickacard</td>\n",
              "    </tr>\n",
              "    <tr>\n",
              "      <th>4</th>\n",
              "      <td>5</td>\n",
              "      <td>What's the difference between a bullet and a h...</td>\n",
              "      <td>A bullet doesn't miss Harambe</td>\n",
              "    </tr>\n",
              "  </tbody>\n",
              "</table>\n",
              "</div>\n",
              "      <button class=\"colab-df-convert\" onclick=\"convertToInteractive('df-3191e962-f149-4682-9105-622958e72c0c')\"\n",
              "              title=\"Convert this dataframe to an interactive table.\"\n",
              "              style=\"display:none;\">\n",
              "        \n",
              "  <svg xmlns=\"http://www.w3.org/2000/svg\" height=\"24px\"viewBox=\"0 0 24 24\"\n",
              "       width=\"24px\">\n",
              "    <path d=\"M0 0h24v24H0V0z\" fill=\"none\"/>\n",
              "    <path d=\"M18.56 5.44l.94 2.06.94-2.06 2.06-.94-2.06-.94-.94-2.06-.94 2.06-2.06.94zm-11 1L8.5 8.5l.94-2.06 2.06-.94-2.06-.94L8.5 2.5l-.94 2.06-2.06.94zm10 10l.94 2.06.94-2.06 2.06-.94-2.06-.94-.94-2.06-.94 2.06-2.06.94z\"/><path d=\"M17.41 7.96l-1.37-1.37c-.4-.4-.92-.59-1.43-.59-.52 0-1.04.2-1.43.59L10.3 9.45l-7.72 7.72c-.78.78-.78 2.05 0 2.83L4 21.41c.39.39.9.59 1.41.59.51 0 1.02-.2 1.41-.59l7.78-7.78 2.81-2.81c.8-.78.8-2.07 0-2.86zM5.41 20L4 18.59l7.72-7.72 1.47 1.35L5.41 20z\"/>\n",
              "  </svg>\n",
              "      </button>\n",
              "      \n",
              "  <style>\n",
              "    .colab-df-container {\n",
              "      display:flex;\n",
              "      flex-wrap:wrap;\n",
              "      gap: 12px;\n",
              "    }\n",
              "\n",
              "    .colab-df-convert {\n",
              "      background-color: #E8F0FE;\n",
              "      border: none;\n",
              "      border-radius: 50%;\n",
              "      cursor: pointer;\n",
              "      display: none;\n",
              "      fill: #1967D2;\n",
              "      height: 32px;\n",
              "      padding: 0 0 0 0;\n",
              "      width: 32px;\n",
              "    }\n",
              "\n",
              "    .colab-df-convert:hover {\n",
              "      background-color: #E2EBFA;\n",
              "      box-shadow: 0px 1px 2px rgba(60, 64, 67, 0.3), 0px 1px 3px 1px rgba(60, 64, 67, 0.15);\n",
              "      fill: #174EA6;\n",
              "    }\n",
              "\n",
              "    [theme=dark] .colab-df-convert {\n",
              "      background-color: #3B4455;\n",
              "      fill: #D2E3FC;\n",
              "    }\n",
              "\n",
              "    [theme=dark] .colab-df-convert:hover {\n",
              "      background-color: #434B5C;\n",
              "      box-shadow: 0px 1px 3px 1px rgba(0, 0, 0, 0.15);\n",
              "      filter: drop-shadow(0px 1px 2px rgba(0, 0, 0, 0.3));\n",
              "      fill: #FFFFFF;\n",
              "    }\n",
              "  </style>\n",
              "\n",
              "      <script>\n",
              "        const buttonEl =\n",
              "          document.querySelector('#df-3191e962-f149-4682-9105-622958e72c0c button.colab-df-convert');\n",
              "        buttonEl.style.display =\n",
              "          google.colab.kernel.accessAllowed ? 'block' : 'none';\n",
              "\n",
              "        async function convertToInteractive(key) {\n",
              "          const element = document.querySelector('#df-3191e962-f149-4682-9105-622958e72c0c');\n",
              "          const dataTable =\n",
              "            await google.colab.kernel.invokeFunction('convertToInteractive',\n",
              "                                                     [key], {});\n",
              "          if (!dataTable) return;\n",
              "\n",
              "          const docLinkHtml = 'Like what you see? Visit the ' +\n",
              "            '<a target=\"_blank\" href=https://colab.research.google.com/notebooks/data_table.ipynb>data table notebook</a>'\n",
              "            + ' to learn more about interactive tables.';\n",
              "          element.innerHTML = '';\n",
              "          dataTable['output_type'] = 'display_data';\n",
              "          await google.colab.output.renderOutput(dataTable, element);\n",
              "          const docLink = document.createElement('div');\n",
              "          docLink.innerHTML = docLinkHtml;\n",
              "          element.appendChild(docLink);\n",
              "        }\n",
              "      </script>\n",
              "    </div>\n",
              "  </div>\n",
              "  "
            ]
          },
          "metadata": {},
          "execution_count": 8
        }
      ]
    },
    {
      "cell_type": "code",
      "source": [
        "df.info()"
      ],
      "metadata": {
        "colab": {
          "base_uri": "https://localhost:8080/"
        },
        "id": "SIpVS3WRcOOe",
        "outputId": "bb1d843f-0258-4bb5-9fbe-0f0250794786"
      },
      "execution_count": null,
      "outputs": [
        {
          "output_type": "stream",
          "name": "stdout",
          "text": [
            "<class 'pandas.core.frame.DataFrame'>\n",
            "RangeIndex: 38269 entries, 0 to 38268\n",
            "Data columns (total 3 columns):\n",
            " #   Column    Non-Null Count  Dtype \n",
            "---  ------    --------------  ----- \n",
            " 0   ID        38269 non-null  int64 \n",
            " 1   Question  38269 non-null  object\n",
            " 2   Answer    38269 non-null  object\n",
            "dtypes: int64(1), object(2)\n",
            "memory usage: 897.1+ KB\n"
          ]
        }
      ]
    },
    {
      "cell_type": "markdown",
      "source": [
        "#Preprocessing"
      ],
      "metadata": {
        "id": "t0qY-rzpjFpI"
      }
    },
    {
      "cell_type": "markdown",
      "source": [
        "## Downloading nltk"
      ],
      "metadata": {
        "id": "i1hjh8hSkrs9"
      }
    },
    {
      "cell_type": "code",
      "source": [
        "foo_nltk=__import__('nltk')\n",
        "foo_nltk.download('stopwords')\n",
        "foo_nltk.download('punkt')\n",
        "foo_nltk.download('wordnet')\n",
        "foo_nltk.download('omw-1.4')"
      ],
      "metadata": {
        "colab": {
          "base_uri": "https://localhost:8080/"
        },
        "id": "zRBYcmxakqxR",
        "outputId": "642b4d12-a4d4-4601-8282-cdc503fa184b"
      },
      "execution_count": null,
      "outputs": [
        {
          "output_type": "stream",
          "name": "stderr",
          "text": [
            "[nltk_data] Downloading package stopwords to /root/nltk_data...\n",
            "[nltk_data]   Package stopwords is already up-to-date!\n",
            "[nltk_data] Downloading package punkt to /root/nltk_data...\n",
            "[nltk_data]   Package punkt is already up-to-date!\n",
            "[nltk_data] Downloading package wordnet to /root/nltk_data...\n",
            "[nltk_data]   Package wordnet is already up-to-date!\n",
            "[nltk_data] Downloading package omw-1.4 to /root/nltk_data...\n",
            "[nltk_data]   Package omw-1.4 is already up-to-date!\n"
          ]
        },
        {
          "output_type": "execute_result",
          "data": {
            "text/plain": [
              "True"
            ]
          },
          "metadata": {},
          "execution_count": 10
        }
      ]
    },
    {
      "cell_type": "markdown",
      "source": [
        "## Cleaning Data"
      ],
      "metadata": {
        "id": "Je5F55RalUik"
      }
    },
    {
      "cell_type": "code",
      "source": [
        "df.columns"
      ],
      "metadata": {
        "colab": {
          "base_uri": "https://localhost:8080/"
        },
        "id": "en-f7zR2mxhA",
        "outputId": "53d56dd3-4e03-4574-e35f-4cd3aee58567"
      },
      "execution_count": null,
      "outputs": [
        {
          "output_type": "execute_result",
          "data": {
            "text/plain": [
              "Index(['ID', 'Question', 'Answer'], dtype='object')"
            ]
          },
          "metadata": {},
          "execution_count": 13
        }
      ]
    },
    {
      "cell_type": "code",
      "source": [
        "#df['title'] = df['title'].astype(str)\n",
        "#df['body'] = df['body'].astype(str)"
      ],
      "metadata": {
        "id": "4IYgJsU_BLVo"
      },
      "execution_count": null,
      "outputs": []
    },
    {
      "cell_type": "code",
      "source": [
        "from nltk import RegexpTokenizer\n",
        "tokaniser=RegexpTokenizer(r\"\\w+\")\n",
        "df['cleaned_q'] = [tokaniser.tokenize(clean(sentence,no_emoji=True)) for sentence in df['Question']]\n",
        "df['cleaned_a'] = [tokaniser.tokenize(clean(sentence,no_emoji=True)) for sentence in df['Answer']]\n",
        "df.head()"
      ],
      "metadata": {
        "colab": {
          "base_uri": "https://localhost:8080/",
          "height": 206
        },
        "id": "9IsJCvP5lWzW",
        "outputId": "19271d2f-ebad-40b3-8b87-a00da856a29a"
      },
      "execution_count": null,
      "outputs": [
        {
          "output_type": "execute_result",
          "data": {
            "text/plain": [
              "   ID                                           Question  \\\n",
              "0   1  Did you hear about the Native American man tha...   \n",
              "1   2       What's the best anti diarrheal prescription?   \n",
              "2   3  What do you call a person who is outside a doo...   \n",
              "3   4  Which Star Trek character is a member of the m...   \n",
              "4   5  What's the difference between a bullet and a h...   \n",
              "\n",
              "                                Answer  \\\n",
              "0  He nearly drown in his own tea pee.   \n",
              "1                     Mycheexarphlexin   \n",
              "2                                 Matt   \n",
              "3                   Jean-Luc Pickacard   \n",
              "4        A bullet doesn't miss Harambe   \n",
              "\n",
              "                                           cleaned_q  \\\n",
              "0  [did, you, hear, about, the, native, american,...   \n",
              "1  [what, s, the, best, anti, diarrheal, prescrip...   \n",
              "2  [what, do, you, call, a, person, who, is, outs...   \n",
              "3  [which, star, trek, character, is, a, member, ...   \n",
              "4  [what, s, the, difference, between, a, bullet,...   \n",
              "\n",
              "                                     cleaned_a  \n",
              "0  [he, nearly, drown, in, his, own, tea, pee]  \n",
              "1                           [mycheexarphlexin]  \n",
              "2                                       [matt]  \n",
              "3                       [jean, luc, pickacard]  \n",
              "4         [a, bullet, doesn, t, miss, harambe]  "
            ],
            "text/html": [
              "\n",
              "  <div id=\"df-fcb6e003-1466-4751-a245-5a858389286f\">\n",
              "    <div class=\"colab-df-container\">\n",
              "      <div>\n",
              "<style scoped>\n",
              "    .dataframe tbody tr th:only-of-type {\n",
              "        vertical-align: middle;\n",
              "    }\n",
              "\n",
              "    .dataframe tbody tr th {\n",
              "        vertical-align: top;\n",
              "    }\n",
              "\n",
              "    .dataframe thead th {\n",
              "        text-align: right;\n",
              "    }\n",
              "</style>\n",
              "<table border=\"1\" class=\"dataframe\">\n",
              "  <thead>\n",
              "    <tr style=\"text-align: right;\">\n",
              "      <th></th>\n",
              "      <th>ID</th>\n",
              "      <th>Question</th>\n",
              "      <th>Answer</th>\n",
              "      <th>cleaned_q</th>\n",
              "      <th>cleaned_a</th>\n",
              "    </tr>\n",
              "  </thead>\n",
              "  <tbody>\n",
              "    <tr>\n",
              "      <th>0</th>\n",
              "      <td>1</td>\n",
              "      <td>Did you hear about the Native American man tha...</td>\n",
              "      <td>He nearly drown in his own tea pee.</td>\n",
              "      <td>[did, you, hear, about, the, native, american,...</td>\n",
              "      <td>[he, nearly, drown, in, his, own, tea, pee]</td>\n",
              "    </tr>\n",
              "    <tr>\n",
              "      <th>1</th>\n",
              "      <td>2</td>\n",
              "      <td>What's the best anti diarrheal prescription?</td>\n",
              "      <td>Mycheexarphlexin</td>\n",
              "      <td>[what, s, the, best, anti, diarrheal, prescrip...</td>\n",
              "      <td>[mycheexarphlexin]</td>\n",
              "    </tr>\n",
              "    <tr>\n",
              "      <th>2</th>\n",
              "      <td>3</td>\n",
              "      <td>What do you call a person who is outside a doo...</td>\n",
              "      <td>Matt</td>\n",
              "      <td>[what, do, you, call, a, person, who, is, outs...</td>\n",
              "      <td>[matt]</td>\n",
              "    </tr>\n",
              "    <tr>\n",
              "      <th>3</th>\n",
              "      <td>4</td>\n",
              "      <td>Which Star Trek character is a member of the m...</td>\n",
              "      <td>Jean-Luc Pickacard</td>\n",
              "      <td>[which, star, trek, character, is, a, member, ...</td>\n",
              "      <td>[jean, luc, pickacard]</td>\n",
              "    </tr>\n",
              "    <tr>\n",
              "      <th>4</th>\n",
              "      <td>5</td>\n",
              "      <td>What's the difference between a bullet and a h...</td>\n",
              "      <td>A bullet doesn't miss Harambe</td>\n",
              "      <td>[what, s, the, difference, between, a, bullet,...</td>\n",
              "      <td>[a, bullet, doesn, t, miss, harambe]</td>\n",
              "    </tr>\n",
              "  </tbody>\n",
              "</table>\n",
              "</div>\n",
              "      <button class=\"colab-df-convert\" onclick=\"convertToInteractive('df-fcb6e003-1466-4751-a245-5a858389286f')\"\n",
              "              title=\"Convert this dataframe to an interactive table.\"\n",
              "              style=\"display:none;\">\n",
              "        \n",
              "  <svg xmlns=\"http://www.w3.org/2000/svg\" height=\"24px\"viewBox=\"0 0 24 24\"\n",
              "       width=\"24px\">\n",
              "    <path d=\"M0 0h24v24H0V0z\" fill=\"none\"/>\n",
              "    <path d=\"M18.56 5.44l.94 2.06.94-2.06 2.06-.94-2.06-.94-.94-2.06-.94 2.06-2.06.94zm-11 1L8.5 8.5l.94-2.06 2.06-.94-2.06-.94L8.5 2.5l-.94 2.06-2.06.94zm10 10l.94 2.06.94-2.06 2.06-.94-2.06-.94-.94-2.06-.94 2.06-2.06.94z\"/><path d=\"M17.41 7.96l-1.37-1.37c-.4-.4-.92-.59-1.43-.59-.52 0-1.04.2-1.43.59L10.3 9.45l-7.72 7.72c-.78.78-.78 2.05 0 2.83L4 21.41c.39.39.9.59 1.41.59.51 0 1.02-.2 1.41-.59l7.78-7.78 2.81-2.81c.8-.78.8-2.07 0-2.86zM5.41 20L4 18.59l7.72-7.72 1.47 1.35L5.41 20z\"/>\n",
              "  </svg>\n",
              "      </button>\n",
              "      \n",
              "  <style>\n",
              "    .colab-df-container {\n",
              "      display:flex;\n",
              "      flex-wrap:wrap;\n",
              "      gap: 12px;\n",
              "    }\n",
              "\n",
              "    .colab-df-convert {\n",
              "      background-color: #E8F0FE;\n",
              "      border: none;\n",
              "      border-radius: 50%;\n",
              "      cursor: pointer;\n",
              "      display: none;\n",
              "      fill: #1967D2;\n",
              "      height: 32px;\n",
              "      padding: 0 0 0 0;\n",
              "      width: 32px;\n",
              "    }\n",
              "\n",
              "    .colab-df-convert:hover {\n",
              "      background-color: #E2EBFA;\n",
              "      box-shadow: 0px 1px 2px rgba(60, 64, 67, 0.3), 0px 1px 3px 1px rgba(60, 64, 67, 0.15);\n",
              "      fill: #174EA6;\n",
              "    }\n",
              "\n",
              "    [theme=dark] .colab-df-convert {\n",
              "      background-color: #3B4455;\n",
              "      fill: #D2E3FC;\n",
              "    }\n",
              "\n",
              "    [theme=dark] .colab-df-convert:hover {\n",
              "      background-color: #434B5C;\n",
              "      box-shadow: 0px 1px 3px 1px rgba(0, 0, 0, 0.15);\n",
              "      filter: drop-shadow(0px 1px 2px rgba(0, 0, 0, 0.3));\n",
              "      fill: #FFFFFF;\n",
              "    }\n",
              "  </style>\n",
              "\n",
              "      <script>\n",
              "        const buttonEl =\n",
              "          document.querySelector('#df-fcb6e003-1466-4751-a245-5a858389286f button.colab-df-convert');\n",
              "        buttonEl.style.display =\n",
              "          google.colab.kernel.accessAllowed ? 'block' : 'none';\n",
              "\n",
              "        async function convertToInteractive(key) {\n",
              "          const element = document.querySelector('#df-fcb6e003-1466-4751-a245-5a858389286f');\n",
              "          const dataTable =\n",
              "            await google.colab.kernel.invokeFunction('convertToInteractive',\n",
              "                                                     [key], {});\n",
              "          if (!dataTable) return;\n",
              "\n",
              "          const docLinkHtml = 'Like what you see? Visit the ' +\n",
              "            '<a target=\"_blank\" href=https://colab.research.google.com/notebooks/data_table.ipynb>data table notebook</a>'\n",
              "            + ' to learn more about interactive tables.';\n",
              "          element.innerHTML = '';\n",
              "          dataTable['output_type'] = 'display_data';\n",
              "          await google.colab.output.renderOutput(dataTable, element);\n",
              "          const docLink = document.createElement('div');\n",
              "          docLink.innerHTML = docLinkHtml;\n",
              "          element.appendChild(docLink);\n",
              "        }\n",
              "      </script>\n",
              "    </div>\n",
              "  </div>\n",
              "  "
            ]
          },
          "metadata": {},
          "execution_count": 16
        }
      ]
    },
    {
      "cell_type": "code",
      "source": [
        "df['cleaned_a'].max()"
      ],
      "metadata": {
        "colab": {
          "base_uri": "https://localhost:8080/"
        },
        "id": "Yu9uNa0Z-I35",
        "outputId": "451f0842-f6d9-43d9-9def-dd70daaecc8b"
      },
      "execution_count": null,
      "outputs": [
        {
          "output_type": "execute_result",
          "data": {
            "text/plain": [
              "['zzzzip']"
            ]
          },
          "metadata": {},
          "execution_count": 17
        }
      ]
    },
    {
      "cell_type": "code",
      "source": [
        "# laod stopwords module \n",
        "from nltk.corpus import stopwords \n",
        "from nltk.stem.wordnet import WordNetLemmatizer\n",
        "from nltk.stem.snowball import SnowballStemmer\n",
        "\n",
        "# Make object \n",
        "lemmatizer=WordNetLemmatizer()\n",
        "\n",
        "# remove stopwords \n",
        "stopwords_list=stopwords.words('english')\n",
        "# load Snowball Stemmer\n",
        "\n",
        "stemmer_snb=SnowballStemmer('english')\n"
      ],
      "metadata": {
        "id": "c5vzPL0LyAhi"
      },
      "execution_count": null,
      "outputs": []
    },
    {
      "cell_type": "code",
      "source": [
        "df['cleaned_q']=df['cleaned_q'].apply(lambda words: [word for word in words if word not in stopwords_list])\n",
        "df['cleaned_q']=df['cleaned_q'].apply(lambda words: [word for word in words if len(word)>3])\n",
        "df['cleaned_q']=df['cleaned_q'].apply(lambda words: [lemmatizer.lemmatize(word) for word in words])\n",
        "#df['cleaned_q']=df['cleaned_q'].apply(lambda words: [stemmer_snb.stem(word) for word in words])\n",
        "\n",
        "df.head(100)"
      ],
      "metadata": {
        "colab": {
          "base_uri": "https://localhost:8080/",
          "height": 520
        },
        "id": "LYAZaoKYyBLw",
        "outputId": "6db06cb9-7ff4-4b27-d97e-12b2efd4346e"
      },
      "execution_count": null,
      "outputs": [
        {
          "output_type": "execute_result",
          "data": {
            "text/plain": [
              "     ID                                           Question  \\\n",
              "0     1  Did you hear about the Native American man tha...   \n",
              "1     2       What's the best anti diarrheal prescription?   \n",
              "2     3  What do you call a person who is outside a doo...   \n",
              "3     4  Which Star Trek character is a member of the m...   \n",
              "4     5  What's the difference between a bullet and a h...   \n",
              "..  ...                                                ...   \n",
              "95   96      What did Mohammad eat while in the Holy Land?   \n",
              "96   97  Boy to Girl- Hi Sweetheart, How is your day go...   \n",
              "97   98  What were the last things going through the mi...   \n",
              "98   99              Why do black people like Korean food?   \n",
              "99  100      What do you call an overweight bounty hunter?   \n",
              "\n",
              "                                               Answer  \\\n",
              "0                 He nearly drown in his own tea pee.   \n",
              "1                                    Mycheexarphlexin   \n",
              "2                                                Matt   \n",
              "3                                  Jean-Luc Pickacard   \n",
              "4                       A bullet doesn't miss Harambe   \n",
              "..                                                ...   \n",
              "95                            Makkah-roni and cheese!   \n",
              "96  G- Pretty well, Do you want me to walk you bac...   \n",
              "97                                       Their ankles   \n",
              "98               Because it has a little Seoul in it.   \n",
              "99                                           Boba Fat   \n",
              "\n",
              "                                         cleaned_q  \\\n",
              "0             [hear, native, american, drank, cup]   \n",
              "1            [best, anti, diarrheal, prescription]   \n",
              "2          [call, person, outside, door, arm, leg]   \n",
              "3   [star, trek, character, member, magic, circle]   \n",
              "4                      [difference, bullet, human]   \n",
              "..                                             ...   \n",
              "95                          [mohammad, holy, land]   \n",
              "96                       [girl, sweetheart, going]   \n",
              "97              [last, thing, going, mind, jumper]   \n",
              "98             [black, people, like, korean, food]   \n",
              "99              [call, overweight, bounty, hunter]   \n",
              "\n",
              "                                            cleaned_a  \n",
              "0         [he, nearly, drown, in, his, own, tea, pee]  \n",
              "1                                  [mycheexarphlexin]  \n",
              "2                                              [matt]  \n",
              "3                              [jean, luc, pickacard]  \n",
              "4                [a, bullet, doesn, t, miss, harambe]  \n",
              "..                                                ...  \n",
              "95                        [makkah, roni, and, cheese]  \n",
              "96  [g, pretty, well, do, you, want, me, to, walk,...  \n",
              "97                                    [their, ankles]  \n",
              "98       [because, it, has, a, little, seoul, in, it]  \n",
              "99                                        [boba, fat]  \n",
              "\n",
              "[100 rows x 5 columns]"
            ],
            "text/html": [
              "\n",
              "  <div id=\"df-6a29354f-8ec8-49f1-9d1f-0eaf7e818339\">\n",
              "    <div class=\"colab-df-container\">\n",
              "      <div>\n",
              "<style scoped>\n",
              "    .dataframe tbody tr th:only-of-type {\n",
              "        vertical-align: middle;\n",
              "    }\n",
              "\n",
              "    .dataframe tbody tr th {\n",
              "        vertical-align: top;\n",
              "    }\n",
              "\n",
              "    .dataframe thead th {\n",
              "        text-align: right;\n",
              "    }\n",
              "</style>\n",
              "<table border=\"1\" class=\"dataframe\">\n",
              "  <thead>\n",
              "    <tr style=\"text-align: right;\">\n",
              "      <th></th>\n",
              "      <th>ID</th>\n",
              "      <th>Question</th>\n",
              "      <th>Answer</th>\n",
              "      <th>cleaned_q</th>\n",
              "      <th>cleaned_a</th>\n",
              "    </tr>\n",
              "  </thead>\n",
              "  <tbody>\n",
              "    <tr>\n",
              "      <th>0</th>\n",
              "      <td>1</td>\n",
              "      <td>Did you hear about the Native American man tha...</td>\n",
              "      <td>He nearly drown in his own tea pee.</td>\n",
              "      <td>[hear, native, american, drank, cup]</td>\n",
              "      <td>[he, nearly, drown, in, his, own, tea, pee]</td>\n",
              "    </tr>\n",
              "    <tr>\n",
              "      <th>1</th>\n",
              "      <td>2</td>\n",
              "      <td>What's the best anti diarrheal prescription?</td>\n",
              "      <td>Mycheexarphlexin</td>\n",
              "      <td>[best, anti, diarrheal, prescription]</td>\n",
              "      <td>[mycheexarphlexin]</td>\n",
              "    </tr>\n",
              "    <tr>\n",
              "      <th>2</th>\n",
              "      <td>3</td>\n",
              "      <td>What do you call a person who is outside a doo...</td>\n",
              "      <td>Matt</td>\n",
              "      <td>[call, person, outside, door, arm, leg]</td>\n",
              "      <td>[matt]</td>\n",
              "    </tr>\n",
              "    <tr>\n",
              "      <th>3</th>\n",
              "      <td>4</td>\n",
              "      <td>Which Star Trek character is a member of the m...</td>\n",
              "      <td>Jean-Luc Pickacard</td>\n",
              "      <td>[star, trek, character, member, magic, circle]</td>\n",
              "      <td>[jean, luc, pickacard]</td>\n",
              "    </tr>\n",
              "    <tr>\n",
              "      <th>4</th>\n",
              "      <td>5</td>\n",
              "      <td>What's the difference between a bullet and a h...</td>\n",
              "      <td>A bullet doesn't miss Harambe</td>\n",
              "      <td>[difference, bullet, human]</td>\n",
              "      <td>[a, bullet, doesn, t, miss, harambe]</td>\n",
              "    </tr>\n",
              "    <tr>\n",
              "      <th>...</th>\n",
              "      <td>...</td>\n",
              "      <td>...</td>\n",
              "      <td>...</td>\n",
              "      <td>...</td>\n",
              "      <td>...</td>\n",
              "    </tr>\n",
              "    <tr>\n",
              "      <th>95</th>\n",
              "      <td>96</td>\n",
              "      <td>What did Mohammad eat while in the Holy Land?</td>\n",
              "      <td>Makkah-roni and cheese!</td>\n",
              "      <td>[mohammad, holy, land]</td>\n",
              "      <td>[makkah, roni, and, cheese]</td>\n",
              "    </tr>\n",
              "    <tr>\n",
              "      <th>96</th>\n",
              "      <td>97</td>\n",
              "      <td>Boy to Girl- Hi Sweetheart, How is your day go...</td>\n",
              "      <td>G- Pretty well, Do you want me to walk you bac...</td>\n",
              "      <td>[girl, sweetheart, going]</td>\n",
              "      <td>[g, pretty, well, do, you, want, me, to, walk,...</td>\n",
              "    </tr>\n",
              "    <tr>\n",
              "      <th>97</th>\n",
              "      <td>98</td>\n",
              "      <td>What were the last things going through the mi...</td>\n",
              "      <td>Their ankles</td>\n",
              "      <td>[last, thing, going, mind, jumper]</td>\n",
              "      <td>[their, ankles]</td>\n",
              "    </tr>\n",
              "    <tr>\n",
              "      <th>98</th>\n",
              "      <td>99</td>\n",
              "      <td>Why do black people like Korean food?</td>\n",
              "      <td>Because it has a little Seoul in it.</td>\n",
              "      <td>[black, people, like, korean, food]</td>\n",
              "      <td>[because, it, has, a, little, seoul, in, it]</td>\n",
              "    </tr>\n",
              "    <tr>\n",
              "      <th>99</th>\n",
              "      <td>100</td>\n",
              "      <td>What do you call an overweight bounty hunter?</td>\n",
              "      <td>Boba Fat</td>\n",
              "      <td>[call, overweight, bounty, hunter]</td>\n",
              "      <td>[boba, fat]</td>\n",
              "    </tr>\n",
              "  </tbody>\n",
              "</table>\n",
              "<p>100 rows × 5 columns</p>\n",
              "</div>\n",
              "      <button class=\"colab-df-convert\" onclick=\"convertToInteractive('df-6a29354f-8ec8-49f1-9d1f-0eaf7e818339')\"\n",
              "              title=\"Convert this dataframe to an interactive table.\"\n",
              "              style=\"display:none;\">\n",
              "        \n",
              "  <svg xmlns=\"http://www.w3.org/2000/svg\" height=\"24px\"viewBox=\"0 0 24 24\"\n",
              "       width=\"24px\">\n",
              "    <path d=\"M0 0h24v24H0V0z\" fill=\"none\"/>\n",
              "    <path d=\"M18.56 5.44l.94 2.06.94-2.06 2.06-.94-2.06-.94-.94-2.06-.94 2.06-2.06.94zm-11 1L8.5 8.5l.94-2.06 2.06-.94-2.06-.94L8.5 2.5l-.94 2.06-2.06.94zm10 10l.94 2.06.94-2.06 2.06-.94-2.06-.94-.94-2.06-.94 2.06-2.06.94z\"/><path d=\"M17.41 7.96l-1.37-1.37c-.4-.4-.92-.59-1.43-.59-.52 0-1.04.2-1.43.59L10.3 9.45l-7.72 7.72c-.78.78-.78 2.05 0 2.83L4 21.41c.39.39.9.59 1.41.59.51 0 1.02-.2 1.41-.59l7.78-7.78 2.81-2.81c.8-.78.8-2.07 0-2.86zM5.41 20L4 18.59l7.72-7.72 1.47 1.35L5.41 20z\"/>\n",
              "  </svg>\n",
              "      </button>\n",
              "      \n",
              "  <style>\n",
              "    .colab-df-container {\n",
              "      display:flex;\n",
              "      flex-wrap:wrap;\n",
              "      gap: 12px;\n",
              "    }\n",
              "\n",
              "    .colab-df-convert {\n",
              "      background-color: #E8F0FE;\n",
              "      border: none;\n",
              "      border-radius: 50%;\n",
              "      cursor: pointer;\n",
              "      display: none;\n",
              "      fill: #1967D2;\n",
              "      height: 32px;\n",
              "      padding: 0 0 0 0;\n",
              "      width: 32px;\n",
              "    }\n",
              "\n",
              "    .colab-df-convert:hover {\n",
              "      background-color: #E2EBFA;\n",
              "      box-shadow: 0px 1px 2px rgba(60, 64, 67, 0.3), 0px 1px 3px 1px rgba(60, 64, 67, 0.15);\n",
              "      fill: #174EA6;\n",
              "    }\n",
              "\n",
              "    [theme=dark] .colab-df-convert {\n",
              "      background-color: #3B4455;\n",
              "      fill: #D2E3FC;\n",
              "    }\n",
              "\n",
              "    [theme=dark] .colab-df-convert:hover {\n",
              "      background-color: #434B5C;\n",
              "      box-shadow: 0px 1px 3px 1px rgba(0, 0, 0, 0.15);\n",
              "      filter: drop-shadow(0px 1px 2px rgba(0, 0, 0, 0.3));\n",
              "      fill: #FFFFFF;\n",
              "    }\n",
              "  </style>\n",
              "\n",
              "      <script>\n",
              "        const buttonEl =\n",
              "          document.querySelector('#df-6a29354f-8ec8-49f1-9d1f-0eaf7e818339 button.colab-df-convert');\n",
              "        buttonEl.style.display =\n",
              "          google.colab.kernel.accessAllowed ? 'block' : 'none';\n",
              "\n",
              "        async function convertToInteractive(key) {\n",
              "          const element = document.querySelector('#df-6a29354f-8ec8-49f1-9d1f-0eaf7e818339');\n",
              "          const dataTable =\n",
              "            await google.colab.kernel.invokeFunction('convertToInteractive',\n",
              "                                                     [key], {});\n",
              "          if (!dataTable) return;\n",
              "\n",
              "          const docLinkHtml = 'Like what you see? Visit the ' +\n",
              "            '<a target=\"_blank\" href=https://colab.research.google.com/notebooks/data_table.ipynb>data table notebook</a>'\n",
              "            + ' to learn more about interactive tables.';\n",
              "          element.innerHTML = '';\n",
              "          dataTable['output_type'] = 'display_data';\n",
              "          await google.colab.output.renderOutput(dataTable, element);\n",
              "          const docLink = document.createElement('div');\n",
              "          docLink.innerHTML = docLinkHtml;\n",
              "          element.appendChild(docLink);\n",
              "        }\n",
              "      </script>\n",
              "    </div>\n",
              "  </div>\n",
              "  "
            ]
          },
          "metadata": {},
          "execution_count": 19
        }
      ]
    },
    {
      "cell_type": "code",
      "source": [
        "df=df[df['cleaned_q'].str.len()==5]\n",
        "df"
      ],
      "metadata": {
        "colab": {
          "base_uri": "https://localhost:8080/",
          "height": 624
        },
        "id": "dg1wsaZiRjuU",
        "outputId": "efbcc643-c1a9-4aef-a187-557ac4e741a7"
      },
      "execution_count": null,
      "outputs": [
        {
          "output_type": "execute_result",
          "data": {
            "text/plain": [
              "          ID                                           Question  \\\n",
              "0          1  Did you hear about the Native American man tha...   \n",
              "10        11  Why are there so many blood cells in female pr...   \n",
              "27        28  What will happen if you went inside a black hole?   \n",
              "37        38  What do you call a row of three hares hopping ...   \n",
              "38        39  I've got a dead budgie for sale, anyone intere...   \n",
              "...      ...                                                ...   \n",
              "38243  38244  How Many Hipsters Does it Take to Screw in a L...   \n",
              "38246  38247  Q: How many surrealists does it take to change...   \n",
              "38252  38253  What do a short-sighted gynaecologist and a pu...   \n",
              "38254  38255  How many musos does it take to screw in a ligh...   \n",
              "38268  38269  What do scientists use to measure a chicken's ...   \n",
              "\n",
              "                                                  Answer  \\\n",
              "0                    He nearly drown in his own tea pee.   \n",
              "10       Because the sentences usually end with periods.   \n",
              "27     I don't know either. It must be out-of-this-wo...   \n",
              "37                                     A receding  line.   \n",
              "38                                 It isn't going cheep.   \n",
              "...                                                  ...   \n",
              "38243  A: You probably wouldn't know, it's some reall...   \n",
              "38246                                           A: Fish.   \n",
              "38252                                        A wet nose.   \n",
              "38254  It's a pretty obscure number. You probably hav...   \n",
              "38268                                       An egg timer   \n",
              "\n",
              "                                              cleaned_q  \\\n",
              "0                  [hear, native, american, drank, cup]   \n",
              "10                  [many, blood, cell, female, prison]   \n",
              "27                  [happen, went, inside, black, hole]   \n",
              "37               [call, three, hare, hopping, backward]   \n",
              "38             [dead, budgie, sale, anyone, interested]   \n",
              "...                                                 ...   \n",
              "38243           [many, hipster, take, screw, lightbulb]   \n",
              "38246       [many, surrealist, take, change, lightbulb]   \n",
              "38252    [short, sighted, gynaecologist, puppy, common]   \n",
              "38254             [many, musos, take, screw, lightbulb]   \n",
              "38268  [scientist, measure, chicken, gestation, period]   \n",
              "\n",
              "                                               cleaned_a  \n",
              "0            [he, nearly, drown, in, his, own, tea, pee]  \n",
              "10     [because, the, sentences, usually, end, with, ...  \n",
              "27     [i, don, t, know, either, it, must, be, out, o...  \n",
              "37                                   [a, receding, line]  \n",
              "38                            [it, isn, t, going, cheep]  \n",
              "...                                                  ...  \n",
              "38243  [a, you, probably, wouldn, t, know, it, s, som...  \n",
              "38246                                          [a, fish]  \n",
              "38252                                     [a, wet, nose]  \n",
              "38254  [it, s, a, pretty, obscure, number, you, proba...  \n",
              "38268                                   [an, egg, timer]  \n",
              "\n",
              "[5595 rows x 5 columns]"
            ],
            "text/html": [
              "\n",
              "  <div id=\"df-7375a9af-aaa8-4c01-a2a7-0620612f333a\">\n",
              "    <div class=\"colab-df-container\">\n",
              "      <div>\n",
              "<style scoped>\n",
              "    .dataframe tbody tr th:only-of-type {\n",
              "        vertical-align: middle;\n",
              "    }\n",
              "\n",
              "    .dataframe tbody tr th {\n",
              "        vertical-align: top;\n",
              "    }\n",
              "\n",
              "    .dataframe thead th {\n",
              "        text-align: right;\n",
              "    }\n",
              "</style>\n",
              "<table border=\"1\" class=\"dataframe\">\n",
              "  <thead>\n",
              "    <tr style=\"text-align: right;\">\n",
              "      <th></th>\n",
              "      <th>ID</th>\n",
              "      <th>Question</th>\n",
              "      <th>Answer</th>\n",
              "      <th>cleaned_q</th>\n",
              "      <th>cleaned_a</th>\n",
              "    </tr>\n",
              "  </thead>\n",
              "  <tbody>\n",
              "    <tr>\n",
              "      <th>0</th>\n",
              "      <td>1</td>\n",
              "      <td>Did you hear about the Native American man tha...</td>\n",
              "      <td>He nearly drown in his own tea pee.</td>\n",
              "      <td>[hear, native, american, drank, cup]</td>\n",
              "      <td>[he, nearly, drown, in, his, own, tea, pee]</td>\n",
              "    </tr>\n",
              "    <tr>\n",
              "      <th>10</th>\n",
              "      <td>11</td>\n",
              "      <td>Why are there so many blood cells in female pr...</td>\n",
              "      <td>Because the sentences usually end with periods.</td>\n",
              "      <td>[many, blood, cell, female, prison]</td>\n",
              "      <td>[because, the, sentences, usually, end, with, ...</td>\n",
              "    </tr>\n",
              "    <tr>\n",
              "      <th>27</th>\n",
              "      <td>28</td>\n",
              "      <td>What will happen if you went inside a black hole?</td>\n",
              "      <td>I don't know either. It must be out-of-this-wo...</td>\n",
              "      <td>[happen, went, inside, black, hole]</td>\n",
              "      <td>[i, don, t, know, either, it, must, be, out, o...</td>\n",
              "    </tr>\n",
              "    <tr>\n",
              "      <th>37</th>\n",
              "      <td>38</td>\n",
              "      <td>What do you call a row of three hares hopping ...</td>\n",
              "      <td>A receding  line.</td>\n",
              "      <td>[call, three, hare, hopping, backward]</td>\n",
              "      <td>[a, receding, line]</td>\n",
              "    </tr>\n",
              "    <tr>\n",
              "      <th>38</th>\n",
              "      <td>39</td>\n",
              "      <td>I've got a dead budgie for sale, anyone intere...</td>\n",
              "      <td>It isn't going cheep.</td>\n",
              "      <td>[dead, budgie, sale, anyone, interested]</td>\n",
              "      <td>[it, isn, t, going, cheep]</td>\n",
              "    </tr>\n",
              "    <tr>\n",
              "      <th>...</th>\n",
              "      <td>...</td>\n",
              "      <td>...</td>\n",
              "      <td>...</td>\n",
              "      <td>...</td>\n",
              "      <td>...</td>\n",
              "    </tr>\n",
              "    <tr>\n",
              "      <th>38243</th>\n",
              "      <td>38244</td>\n",
              "      <td>How Many Hipsters Does it Take to Screw in a L...</td>\n",
              "      <td>A: You probably wouldn't know, it's some reall...</td>\n",
              "      <td>[many, hipster, take, screw, lightbulb]</td>\n",
              "      <td>[a, you, probably, wouldn, t, know, it, s, som...</td>\n",
              "    </tr>\n",
              "    <tr>\n",
              "      <th>38246</th>\n",
              "      <td>38247</td>\n",
              "      <td>Q: How many surrealists does it take to change...</td>\n",
              "      <td>A: Fish.</td>\n",
              "      <td>[many, surrealist, take, change, lightbulb]</td>\n",
              "      <td>[a, fish]</td>\n",
              "    </tr>\n",
              "    <tr>\n",
              "      <th>38252</th>\n",
              "      <td>38253</td>\n",
              "      <td>What do a short-sighted gynaecologist and a pu...</td>\n",
              "      <td>A wet nose.</td>\n",
              "      <td>[short, sighted, gynaecologist, puppy, common]</td>\n",
              "      <td>[a, wet, nose]</td>\n",
              "    </tr>\n",
              "    <tr>\n",
              "      <th>38254</th>\n",
              "      <td>38255</td>\n",
              "      <td>How many musos does it take to screw in a ligh...</td>\n",
              "      <td>It's a pretty obscure number. You probably hav...</td>\n",
              "      <td>[many, musos, take, screw, lightbulb]</td>\n",
              "      <td>[it, s, a, pretty, obscure, number, you, proba...</td>\n",
              "    </tr>\n",
              "    <tr>\n",
              "      <th>38268</th>\n",
              "      <td>38269</td>\n",
              "      <td>What do scientists use to measure a chicken's ...</td>\n",
              "      <td>An egg timer</td>\n",
              "      <td>[scientist, measure, chicken, gestation, period]</td>\n",
              "      <td>[an, egg, timer]</td>\n",
              "    </tr>\n",
              "  </tbody>\n",
              "</table>\n",
              "<p>5595 rows × 5 columns</p>\n",
              "</div>\n",
              "      <button class=\"colab-df-convert\" onclick=\"convertToInteractive('df-7375a9af-aaa8-4c01-a2a7-0620612f333a')\"\n",
              "              title=\"Convert this dataframe to an interactive table.\"\n",
              "              style=\"display:none;\">\n",
              "        \n",
              "  <svg xmlns=\"http://www.w3.org/2000/svg\" height=\"24px\"viewBox=\"0 0 24 24\"\n",
              "       width=\"24px\">\n",
              "    <path d=\"M0 0h24v24H0V0z\" fill=\"none\"/>\n",
              "    <path d=\"M18.56 5.44l.94 2.06.94-2.06 2.06-.94-2.06-.94-.94-2.06-.94 2.06-2.06.94zm-11 1L8.5 8.5l.94-2.06 2.06-.94-2.06-.94L8.5 2.5l-.94 2.06-2.06.94zm10 10l.94 2.06.94-2.06 2.06-.94-2.06-.94-.94-2.06-.94 2.06-2.06.94z\"/><path d=\"M17.41 7.96l-1.37-1.37c-.4-.4-.92-.59-1.43-.59-.52 0-1.04.2-1.43.59L10.3 9.45l-7.72 7.72c-.78.78-.78 2.05 0 2.83L4 21.41c.39.39.9.59 1.41.59.51 0 1.02-.2 1.41-.59l7.78-7.78 2.81-2.81c.8-.78.8-2.07 0-2.86zM5.41 20L4 18.59l7.72-7.72 1.47 1.35L5.41 20z\"/>\n",
              "  </svg>\n",
              "      </button>\n",
              "      \n",
              "  <style>\n",
              "    .colab-df-container {\n",
              "      display:flex;\n",
              "      flex-wrap:wrap;\n",
              "      gap: 12px;\n",
              "    }\n",
              "\n",
              "    .colab-df-convert {\n",
              "      background-color: #E8F0FE;\n",
              "      border: none;\n",
              "      border-radius: 50%;\n",
              "      cursor: pointer;\n",
              "      display: none;\n",
              "      fill: #1967D2;\n",
              "      height: 32px;\n",
              "      padding: 0 0 0 0;\n",
              "      width: 32px;\n",
              "    }\n",
              "\n",
              "    .colab-df-convert:hover {\n",
              "      background-color: #E2EBFA;\n",
              "      box-shadow: 0px 1px 2px rgba(60, 64, 67, 0.3), 0px 1px 3px 1px rgba(60, 64, 67, 0.15);\n",
              "      fill: #174EA6;\n",
              "    }\n",
              "\n",
              "    [theme=dark] .colab-df-convert {\n",
              "      background-color: #3B4455;\n",
              "      fill: #D2E3FC;\n",
              "    }\n",
              "\n",
              "    [theme=dark] .colab-df-convert:hover {\n",
              "      background-color: #434B5C;\n",
              "      box-shadow: 0px 1px 3px 1px rgba(0, 0, 0, 0.15);\n",
              "      filter: drop-shadow(0px 1px 2px rgba(0, 0, 0, 0.3));\n",
              "      fill: #FFFFFF;\n",
              "    }\n",
              "  </style>\n",
              "\n",
              "      <script>\n",
              "        const buttonEl =\n",
              "          document.querySelector('#df-7375a9af-aaa8-4c01-a2a7-0620612f333a button.colab-df-convert');\n",
              "        buttonEl.style.display =\n",
              "          google.colab.kernel.accessAllowed ? 'block' : 'none';\n",
              "\n",
              "        async function convertToInteractive(key) {\n",
              "          const element = document.querySelector('#df-7375a9af-aaa8-4c01-a2a7-0620612f333a');\n",
              "          const dataTable =\n",
              "            await google.colab.kernel.invokeFunction('convertToInteractive',\n",
              "                                                     [key], {});\n",
              "          if (!dataTable) return;\n",
              "\n",
              "          const docLinkHtml = 'Like what you see? Visit the ' +\n",
              "            '<a target=\"_blank\" href=https://colab.research.google.com/notebooks/data_table.ipynb>data table notebook</a>'\n",
              "            + ' to learn more about interactive tables.';\n",
              "          element.innerHTML = '';\n",
              "          dataTable['output_type'] = 'display_data';\n",
              "          await google.colab.output.renderOutput(dataTable, element);\n",
              "          const docLink = document.createElement('div');\n",
              "          docLink.innerHTML = docLinkHtml;\n",
              "          element.appendChild(docLink);\n",
              "        }\n",
              "      </script>\n",
              "    </div>\n",
              "  </div>\n",
              "  "
            ]
          },
          "metadata": {},
          "execution_count": 34
        }
      ]
    },
    {
      "cell_type": "code",
      "source": [
        "import numpy as np\n",
        "corpus =df[['cleaned_q']].apply(lambda words:[ \" \".join(word) for word in words]).to_numpy()\n",
        "corpus2 =df[['cleaned_a']].apply(lambda words:[ \" \".join(word) for word in words]).to_numpy()\n",
        "corpus = list(corpus.flatten())\n",
        "corpus2 = list(corpus2.flatten())"
      ],
      "metadata": {
        "id": "xABhDM1RzZ51"
      },
      "execution_count": null,
      "outputs": []
    },
    {
      "cell_type": "code",
      "source": [
        "from keras.preprocessing.text import Tokenizer\n",
        "\n",
        "def get_sequence_of_tokens(corpus):\n",
        "    ## tokenization\n",
        "    tokenizer=Tokenizer()\n",
        "    tokenizer.fit_on_texts(corpus)\n",
        "    total_words = len(tokenizer.word_index) + 1\n",
        "    \n",
        "    ## convert data to a token sequence \n",
        "    input_sequences = []\n",
        "    for line in corpus:\n",
        "        token_list = tokenizer.texts_to_sequences([line])[0]\n",
        "        input_sequences.append(token_list)\n",
        "    return input_sequences, total_words"
      ],
      "metadata": {
        "id": "L0zgnNEl2_z-"
      },
      "execution_count": null,
      "outputs": []
    },
    {
      "cell_type": "markdown",
      "source": [
        "##Creating input Seq"
      ],
      "metadata": {
        "id": "utK1sFJ9_gSf"
      }
    },
    {
      "cell_type": "code",
      "source": [
        "inp_seq,total_w = get_sequence_of_tokens(corpus)\n",
        "total_w"
      ],
      "metadata": {
        "colab": {
          "base_uri": "https://localhost:8080/"
        },
        "id": "2SwmgbWE3CCu",
        "outputId": "db4ddcf1-c700-4c96-da00-c67b450c4ed5"
      },
      "execution_count": null,
      "outputs": [
        {
          "output_type": "execute_result",
          "data": {
            "text/plain": [
              "6027"
            ]
          },
          "metadata": {},
          "execution_count": 37
        }
      ]
    },
    {
      "cell_type": "code",
      "source": [
        "len(inp_seq),len(corpus)"
      ],
      "metadata": {
        "colab": {
          "base_uri": "https://localhost:8080/"
        },
        "id": "AT1ifQ0x5ziI",
        "outputId": "e74bc301-16de-421b-8bdc-8285f693ab66"
      },
      "execution_count": null,
      "outputs": [
        {
          "output_type": "execute_result",
          "data": {
            "text/plain": [
              "(5595, 5595)"
            ]
          },
          "metadata": {},
          "execution_count": 38
        }
      ]
    },
    {
      "cell_type": "code",
      "source": [
        "from keras.preprocessing.sequence import pad_sequences\n",
        "def generate_padded_sequences(input_sequences):\n",
        "    max_sequence_len = max([len(x) for x in input_sequences])\n",
        "    input_sequences = np.array(pad_sequences(input_sequences, maxlen=max_sequence_len, padding='pre'))\n",
        "    \n",
        "    predictors = input_sequences[:,:-1],input_sequences[:,-1]\n",
        "    return predictors, max_sequence_len"
      ],
      "metadata": {
        "id": "uqbcsonD6j4F"
      },
      "execution_count": null,
      "outputs": []
    },
    {
      "cell_type": "code",
      "source": [
        "\n",
        "predictors, max_sequence_len=generate_padded_sequences(inp_seq)\n",
        "max_sequence_len"
      ],
      "metadata": {
        "colab": {
          "base_uri": "https://localhost:8080/"
        },
        "id": "czIKUvl46p-f",
        "outputId": "aa10a8b5-bd6d-448f-bd14-5891cf961ecf"
      },
      "execution_count": null,
      "outputs": [
        {
          "output_type": "execute_result",
          "data": {
            "text/plain": [
              "5"
            ]
          },
          "metadata": {},
          "execution_count": 40
        }
      ]
    },
    {
      "cell_type": "markdown",
      "source": [
        "##Creating output seq"
      ],
      "metadata": {
        "id": "9YFFTZ5u_maW"
      }
    },
    {
      "cell_type": "code",
      "source": [
        "out_seq,total_w = get_sequence_of_tokens(corpus2)\n",
        "total_w"
      ],
      "metadata": {
        "colab": {
          "base_uri": "https://localhost:8080/"
        },
        "id": "65eW9XlY8awh",
        "outputId": "3f5dc5f9-ae09-4b62-8868-b70d767ca901"
      },
      "execution_count": null,
      "outputs": [
        {
          "output_type": "execute_result",
          "data": {
            "text/plain": [
              "6629"
            ]
          },
          "metadata": {},
          "execution_count": 41
        }
      ]
    },
    {
      "cell_type": "code",
      "source": [
        "outputs, out_lens=generate_padded_sequences(out_seq)\n",
        "out_lens"
      ],
      "metadata": {
        "colab": {
          "base_uri": "https://localhost:8080/"
        },
        "id": "oPOVhjuj9LVe",
        "outputId": "43f2c03f-f26c-40d8-82a8-ee2d2dbb684a"
      },
      "execution_count": null,
      "outputs": [
        {
          "output_type": "execute_result",
          "data": {
            "text/plain": [
              "92"
            ]
          },
          "metadata": {},
          "execution_count": 42
        }
      ]
    },
    {
      "cell_type": "code",
      "source": [
        "predictors=predictors[0]\n",
        "outputs=outputs[0]\n",
        "predictors=predictors/predictors.max()\n",
        "outputs=outputs/outputs.max()\n"
      ],
      "metadata": {
        "id": "u-vHY2m9APaN"
      },
      "execution_count": null,
      "outputs": []
    },
    {
      "cell_type": "markdown",
      "source": [
        "#Creating EarlyStoppper"
      ],
      "metadata": {
        "id": "UwsIxnTFVViw"
      }
    },
    {
      "cell_type": "code",
      "source": [
        "import tensorflow as tf\n",
        "earlyStopper=tf.keras.callbacks.EarlyStopping(monitor='val_loss', patience=7, verbose=1, mode='auto',restore_best_weights=True)"
      ],
      "metadata": {
        "id": "3spD4tAhX00A"
      },
      "execution_count": null,
      "outputs": []
    },
    {
      "cell_type": "markdown",
      "source": [
        "#Creating Model"
      ],
      "metadata": {
        "id": "eoWTevFWVZSS"
      }
    },
    {
      "cell_type": "code",
      "source": [
        "from keras.models import Sequential\n",
        "model=Sequential(name='joker')\n",
        "model.add(tf.keras.layers.Embedding(total_w,50,input_length=max_sequence_len-1))\n",
        "model.add(tf.keras.layers.LSTM(100,return_sequences=True))\n",
        "model.add(tf.keras.layers.Dropout(0.2))\n",
        "model.add(tf.keras.layers.Conv1D(64,3,padding='same'))\n",
        "model.add(tf.keras.layers.Dropout(0.2))\n",
        "model.add(tf.keras.layers.Conv1D(32,3,padding='same'))\n",
        "model.add(tf.keras.layers.Flatten())\n",
        "model.add(tf.keras.layers.Dense(512))\n",
        "model.add(tf.keras.layers.Dropout(0.2))\n",
        "model.add(tf.keras.layers.Dense(64,activation='relu'))\n",
        "model.add(tf.keras.layers.Dense(out_lens-1,activation='relu'))\n"
      ],
      "metadata": {
        "id": "1MFN807VABUk"
      },
      "execution_count": null,
      "outputs": []
    },
    {
      "cell_type": "code",
      "source": [
        "\n",
        "model.compile(loss = \"mse\", optimizer = 'adam',metrics=['accuracy'])"
      ],
      "metadata": {
        "id": "NaqFaTpjB5xT"
      },
      "execution_count": null,
      "outputs": []
    },
    {
      "cell_type": "code",
      "source": [
        "model.summary()"
      ],
      "metadata": {
        "colab": {
          "base_uri": "https://localhost:8080/"
        },
        "id": "rl9hDS4iCDHo",
        "outputId": "f3183976-dcee-4245-d63a-decdcd4e2546"
      },
      "execution_count": null,
      "outputs": [
        {
          "output_type": "stream",
          "name": "stdout",
          "text": [
            "Model: \"joker\"\n",
            "_________________________________________________________________\n",
            " Layer (type)                Output Shape              Param #   \n",
            "=================================================================\n",
            " embedding_1 (Embedding)     (None, 4, 50)             331450    \n",
            "                                                                 \n",
            " lstm_1 (LSTM)               (None, 4, 100)            60400     \n",
            "                                                                 \n",
            " dropout_3 (Dropout)         (None, 4, 100)            0         \n",
            "                                                                 \n",
            " conv1d_2 (Conv1D)           (None, 4, 64)             19264     \n",
            "                                                                 \n",
            " dropout_4 (Dropout)         (None, 4, 64)             0         \n",
            "                                                                 \n",
            " conv1d_3 (Conv1D)           (None, 4, 32)             6176      \n",
            "                                                                 \n",
            " flatten_1 (Flatten)         (None, 128)               0         \n",
            "                                                                 \n",
            " dense_3 (Dense)             (None, 512)               66048     \n",
            "                                                                 \n",
            " dropout_5 (Dropout)         (None, 512)               0         \n",
            "                                                                 \n",
            " dense_4 (Dense)             (None, 64)                32832     \n",
            "                                                                 \n",
            " dense_5 (Dense)             (None, 91)                5915      \n",
            "                                                                 \n",
            "=================================================================\n",
            "Total params: 522,085\n",
            "Trainable params: 522,085\n",
            "Non-trainable params: 0\n",
            "_________________________________________________________________\n"
          ]
        }
      ]
    },
    {
      "cell_type": "markdown",
      "source": [
        "#Training Model"
      ],
      "metadata": {
        "id": "A2PGpGJYVcg7"
      }
    },
    {
      "cell_type": "code",
      "source": [
        "model.fit(predictors,outputs,epochs=50,validation_split=0.2,verbose=2,callbacks=[earlyStopper])"
      ],
      "metadata": {
        "colab": {
          "base_uri": "https://localhost:8080/",
          "height": 814
        },
        "id": "FIDKvunUCGdQ",
        "outputId": "a4fc6fd0-329e-47e6-8c72-4e4bda6d50c7"
      },
      "execution_count": null,
      "outputs": [
        {
          "output_type": "stream",
          "name": "stdout",
          "text": [
            "Epoch 1/50\n",
            "140/140 - 3s - loss: 0.0022 - accuracy: 0.3836 - val_loss: 0.0044 - val_accuracy: 0.3423 - 3s/epoch - 22ms/step\n",
            "Epoch 2/50\n",
            "140/140 - 1s - loss: 0.0022 - accuracy: 0.3863 - val_loss: 0.0044 - val_accuracy: 0.3423 - 837ms/epoch - 6ms/step\n",
            "Epoch 3/50\n",
            "140/140 - 1s - loss: 0.0022 - accuracy: 0.3863 - val_loss: 0.0044 - val_accuracy: 0.3423 - 843ms/epoch - 6ms/step\n",
            "Epoch 4/50\n",
            "140/140 - 1s - loss: 0.0022 - accuracy: 0.3863 - val_loss: 0.0044 - val_accuracy: 0.3423 - 927ms/epoch - 7ms/step\n",
            "Epoch 5/50\n",
            "140/140 - 1s - loss: 0.0022 - accuracy: 0.3863 - val_loss: 0.0044 - val_accuracy: 0.3423 - 833ms/epoch - 6ms/step\n",
            "Epoch 6/50\n",
            "140/140 - 1s - loss: 0.0022 - accuracy: 0.3863 - val_loss: 0.0044 - val_accuracy: 0.3423 - 882ms/epoch - 6ms/step\n",
            "Epoch 7/50\n",
            "140/140 - 1s - loss: 0.0022 - accuracy: 0.3863 - val_loss: 0.0044 - val_accuracy: 0.3423 - 894ms/epoch - 6ms/step\n",
            "Epoch 8/50\n",
            "140/140 - 1s - loss: 0.0022 - accuracy: 0.3863 - val_loss: 0.0044 - val_accuracy: 0.3423 - 891ms/epoch - 6ms/step\n",
            "Epoch 9/50\n",
            "140/140 - 1s - loss: 0.0022 - accuracy: 0.3863 - val_loss: 0.0044 - val_accuracy: 0.3423 - 905ms/epoch - 6ms/step\n",
            "Epoch 10/50\n",
            "140/140 - 1s - loss: 0.0022 - accuracy: 0.3863 - val_loss: 0.0044 - val_accuracy: 0.3423 - 923ms/epoch - 7ms/step\n",
            "Epoch 11/50\n",
            "140/140 - 1s - loss: 0.0022 - accuracy: 0.3863 - val_loss: 0.0044 - val_accuracy: 0.3423 - 887ms/epoch - 6ms/step\n",
            "Epoch 12/50\n",
            "140/140 - 1s - loss: 0.0022 - accuracy: 0.3863 - val_loss: 0.0044 - val_accuracy: 0.3423 - 829ms/epoch - 6ms/step\n",
            "Epoch 13/50\n",
            "140/140 - 1s - loss: 0.0022 - accuracy: 0.3863 - val_loss: 0.0044 - val_accuracy: 0.3423 - 812ms/epoch - 6ms/step\n",
            "Epoch 14/50\n",
            "140/140 - 1s - loss: 0.0022 - accuracy: 0.3863 - val_loss: 0.0044 - val_accuracy: 0.3423 - 877ms/epoch - 6ms/step\n",
            "Epoch 15/50\n"
          ]
        },
        {
          "output_type": "error",
          "ename": "KeyboardInterrupt",
          "evalue": "ignored",
          "traceback": [
            "\u001b[0;31m---------------------------------------------------------------------------\u001b[0m",
            "\u001b[0;31mKeyboardInterrupt\u001b[0m                         Traceback (most recent call last)",
            "\u001b[0;32m<ipython-input-48-cb5e897a98cf>\u001b[0m in \u001b[0;36m<module>\u001b[0;34m\u001b[0m\n\u001b[0;32m----> 1\u001b[0;31m \u001b[0mmodel\u001b[0m\u001b[0;34m.\u001b[0m\u001b[0mfit\u001b[0m\u001b[0;34m(\u001b[0m\u001b[0mpredictors\u001b[0m\u001b[0;34m,\u001b[0m\u001b[0moutputs\u001b[0m\u001b[0;34m,\u001b[0m\u001b[0mepochs\u001b[0m\u001b[0;34m=\u001b[0m\u001b[0;36m50\u001b[0m\u001b[0;34m,\u001b[0m\u001b[0mvalidation_split\u001b[0m\u001b[0;34m=\u001b[0m\u001b[0;36m0.2\u001b[0m\u001b[0;34m,\u001b[0m\u001b[0mverbose\u001b[0m\u001b[0;34m=\u001b[0m\u001b[0;36m2\u001b[0m\u001b[0;34m,\u001b[0m\u001b[0mcallbacks\u001b[0m\u001b[0;34m=\u001b[0m\u001b[0;34m[\u001b[0m\u001b[0mearlyStopper\u001b[0m\u001b[0;34m]\u001b[0m\u001b[0;34m)\u001b[0m\u001b[0;34m\u001b[0m\u001b[0;34m\u001b[0m\u001b[0m\n\u001b[0m",
            "\u001b[0;32m/usr/local/lib/python3.7/dist-packages/keras/utils/traceback_utils.py\u001b[0m in \u001b[0;36merror_handler\u001b[0;34m(*args, **kwargs)\u001b[0m\n\u001b[1;32m     62\u001b[0m     \u001b[0mfiltered_tb\u001b[0m \u001b[0;34m=\u001b[0m \u001b[0;32mNone\u001b[0m\u001b[0;34m\u001b[0m\u001b[0;34m\u001b[0m\u001b[0m\n\u001b[1;32m     63\u001b[0m     \u001b[0;32mtry\u001b[0m\u001b[0;34m:\u001b[0m\u001b[0;34m\u001b[0m\u001b[0;34m\u001b[0m\u001b[0m\n\u001b[0;32m---> 64\u001b[0;31m       \u001b[0;32mreturn\u001b[0m \u001b[0mfn\u001b[0m\u001b[0;34m(\u001b[0m\u001b[0;34m*\u001b[0m\u001b[0margs\u001b[0m\u001b[0;34m,\u001b[0m \u001b[0;34m**\u001b[0m\u001b[0mkwargs\u001b[0m\u001b[0;34m)\u001b[0m\u001b[0;34m\u001b[0m\u001b[0;34m\u001b[0m\u001b[0m\n\u001b[0m\u001b[1;32m     65\u001b[0m     \u001b[0;32mexcept\u001b[0m \u001b[0mException\u001b[0m \u001b[0;32mas\u001b[0m \u001b[0me\u001b[0m\u001b[0;34m:\u001b[0m  \u001b[0;31m# pylint: disable=broad-except\u001b[0m\u001b[0;34m\u001b[0m\u001b[0;34m\u001b[0m\u001b[0m\n\u001b[1;32m     66\u001b[0m       \u001b[0mfiltered_tb\u001b[0m \u001b[0;34m=\u001b[0m \u001b[0m_process_traceback_frames\u001b[0m\u001b[0;34m(\u001b[0m\u001b[0me\u001b[0m\u001b[0;34m.\u001b[0m\u001b[0m__traceback__\u001b[0m\u001b[0;34m)\u001b[0m\u001b[0;34m\u001b[0m\u001b[0;34m\u001b[0m\u001b[0m\n",
            "\u001b[0;32m/usr/local/lib/python3.7/dist-packages/keras/engine/training.py\u001b[0m in \u001b[0;36mfit\u001b[0;34m(self, x, y, batch_size, epochs, verbose, callbacks, validation_split, validation_data, shuffle, class_weight, sample_weight, initial_epoch, steps_per_epoch, validation_steps, validation_batch_size, validation_freq, max_queue_size, workers, use_multiprocessing)\u001b[0m\n\u001b[1;32m   1374\u001b[0m         \u001b[0mcallbacks\u001b[0m\u001b[0;34m.\u001b[0m\u001b[0mon_epoch_begin\u001b[0m\u001b[0;34m(\u001b[0m\u001b[0mepoch\u001b[0m\u001b[0;34m)\u001b[0m\u001b[0;34m\u001b[0m\u001b[0;34m\u001b[0m\u001b[0m\n\u001b[1;32m   1375\u001b[0m         \u001b[0;32mwith\u001b[0m \u001b[0mdata_handler\u001b[0m\u001b[0;34m.\u001b[0m\u001b[0mcatch_stop_iteration\u001b[0m\u001b[0;34m(\u001b[0m\u001b[0;34m)\u001b[0m\u001b[0;34m:\u001b[0m\u001b[0;34m\u001b[0m\u001b[0;34m\u001b[0m\u001b[0m\n\u001b[0;32m-> 1376\u001b[0;31m           \u001b[0;32mfor\u001b[0m \u001b[0mstep\u001b[0m \u001b[0;32min\u001b[0m \u001b[0mdata_handler\u001b[0m\u001b[0;34m.\u001b[0m\u001b[0msteps\u001b[0m\u001b[0;34m(\u001b[0m\u001b[0;34m)\u001b[0m\u001b[0;34m:\u001b[0m\u001b[0;34m\u001b[0m\u001b[0;34m\u001b[0m\u001b[0m\n\u001b[0m\u001b[1;32m   1377\u001b[0m             with tf.profiler.experimental.Trace(\n\u001b[1;32m   1378\u001b[0m                 \u001b[0;34m'train'\u001b[0m\u001b[0;34m,\u001b[0m\u001b[0;34m\u001b[0m\u001b[0;34m\u001b[0m\u001b[0m\n",
            "\u001b[0;32m/usr/local/lib/python3.7/dist-packages/keras/engine/data_adapter.py\u001b[0m in \u001b[0;36msteps\u001b[0;34m(self)\u001b[0m\n\u001b[1;32m   1244\u001b[0m       \u001b[0;32mif\u001b[0m \u001b[0mself\u001b[0m\u001b[0;34m.\u001b[0m\u001b[0m_insufficient_data\u001b[0m\u001b[0;34m:\u001b[0m  \u001b[0;31m# Set by `catch_stop_iteration`.\u001b[0m\u001b[0;34m\u001b[0m\u001b[0;34m\u001b[0m\u001b[0m\n\u001b[1;32m   1245\u001b[0m         \u001b[0;32mbreak\u001b[0m\u001b[0;34m\u001b[0m\u001b[0;34m\u001b[0m\u001b[0m\n\u001b[0;32m-> 1246\u001b[0;31m       \u001b[0moriginal_spe\u001b[0m \u001b[0;34m=\u001b[0m \u001b[0mself\u001b[0m\u001b[0;34m.\u001b[0m\u001b[0m_steps_per_execution\u001b[0m\u001b[0;34m.\u001b[0m\u001b[0mnumpy\u001b[0m\u001b[0;34m(\u001b[0m\u001b[0;34m)\u001b[0m\u001b[0;34m.\u001b[0m\u001b[0mitem\u001b[0m\u001b[0;34m(\u001b[0m\u001b[0;34m)\u001b[0m\u001b[0;34m\u001b[0m\u001b[0;34m\u001b[0m\u001b[0m\n\u001b[0m\u001b[1;32m   1247\u001b[0m       can_run_full_execution = (\n\u001b[1;32m   1248\u001b[0m           \u001b[0moriginal_spe\u001b[0m \u001b[0;34m==\u001b[0m \u001b[0;36m1\u001b[0m \u001b[0;32mor\u001b[0m\u001b[0;34m\u001b[0m\u001b[0;34m\u001b[0m\u001b[0m\n",
            "\u001b[0;32m/usr/local/lib/python3.7/dist-packages/tensorflow/python/ops/resource_variable_ops.py\u001b[0m in \u001b[0;36mnumpy\u001b[0;34m(self)\u001b[0m\n\u001b[1;32m    672\u001b[0m   \u001b[0;32mdef\u001b[0m \u001b[0mnumpy\u001b[0m\u001b[0;34m(\u001b[0m\u001b[0mself\u001b[0m\u001b[0;34m)\u001b[0m\u001b[0;34m:\u001b[0m\u001b[0;34m\u001b[0m\u001b[0;34m\u001b[0m\u001b[0m\n\u001b[1;32m    673\u001b[0m     \u001b[0;32mif\u001b[0m \u001b[0mcontext\u001b[0m\u001b[0;34m.\u001b[0m\u001b[0mexecuting_eagerly\u001b[0m\u001b[0;34m(\u001b[0m\u001b[0;34m)\u001b[0m\u001b[0;34m:\u001b[0m\u001b[0;34m\u001b[0m\u001b[0;34m\u001b[0m\u001b[0m\n\u001b[0;32m--> 674\u001b[0;31m       \u001b[0;32mreturn\u001b[0m \u001b[0mself\u001b[0m\u001b[0;34m.\u001b[0m\u001b[0mread_value\u001b[0m\u001b[0;34m(\u001b[0m\u001b[0;34m)\u001b[0m\u001b[0;34m.\u001b[0m\u001b[0mnumpy\u001b[0m\u001b[0;34m(\u001b[0m\u001b[0;34m)\u001b[0m\u001b[0;34m\u001b[0m\u001b[0;34m\u001b[0m\u001b[0m\n\u001b[0m\u001b[1;32m    675\u001b[0m     raise NotImplementedError(\n\u001b[1;32m    676\u001b[0m         \"numpy() is only available when eager execution is enabled.\")\n",
            "\u001b[0;32m/usr/local/lib/python3.7/dist-packages/tensorflow/python/framework/ops.py\u001b[0m in \u001b[0;36mnumpy\u001b[0;34m(self)\u001b[0m\n\u001b[1;32m   1221\u001b[0m     \"\"\"\n\u001b[1;32m   1222\u001b[0m     \u001b[0;31m# TODO(slebedev): Consider avoiding a copy for non-CPU or remote tensors.\u001b[0m\u001b[0;34m\u001b[0m\u001b[0;34m\u001b[0m\u001b[0;34m\u001b[0m\u001b[0m\n\u001b[0;32m-> 1223\u001b[0;31m     \u001b[0mmaybe_arr\u001b[0m \u001b[0;34m=\u001b[0m \u001b[0mself\u001b[0m\u001b[0;34m.\u001b[0m\u001b[0m_numpy\u001b[0m\u001b[0;34m(\u001b[0m\u001b[0;34m)\u001b[0m  \u001b[0;31m# pylint: disable=protected-access\u001b[0m\u001b[0;34m\u001b[0m\u001b[0;34m\u001b[0m\u001b[0m\n\u001b[0m\u001b[1;32m   1224\u001b[0m     \u001b[0;32mreturn\u001b[0m \u001b[0mmaybe_arr\u001b[0m\u001b[0;34m.\u001b[0m\u001b[0mcopy\u001b[0m\u001b[0;34m(\u001b[0m\u001b[0;34m)\u001b[0m \u001b[0;32mif\u001b[0m \u001b[0misinstance\u001b[0m\u001b[0;34m(\u001b[0m\u001b[0mmaybe_arr\u001b[0m\u001b[0;34m,\u001b[0m \u001b[0mnp\u001b[0m\u001b[0;34m.\u001b[0m\u001b[0mndarray\u001b[0m\u001b[0;34m)\u001b[0m \u001b[0;32melse\u001b[0m \u001b[0mmaybe_arr\u001b[0m\u001b[0;34m\u001b[0m\u001b[0;34m\u001b[0m\u001b[0m\n\u001b[1;32m   1225\u001b[0m \u001b[0;34m\u001b[0m\u001b[0m\n",
            "\u001b[0;32m/usr/local/lib/python3.7/dist-packages/tensorflow/python/framework/ops.py\u001b[0m in \u001b[0;36m_numpy\u001b[0;34m(self)\u001b[0m\n\u001b[1;32m   1187\u001b[0m   \u001b[0;32mdef\u001b[0m \u001b[0m_numpy\u001b[0m\u001b[0;34m(\u001b[0m\u001b[0mself\u001b[0m\u001b[0;34m)\u001b[0m\u001b[0;34m:\u001b[0m\u001b[0;34m\u001b[0m\u001b[0;34m\u001b[0m\u001b[0m\n\u001b[1;32m   1188\u001b[0m     \u001b[0;32mtry\u001b[0m\u001b[0;34m:\u001b[0m\u001b[0;34m\u001b[0m\u001b[0;34m\u001b[0m\u001b[0m\n\u001b[0;32m-> 1189\u001b[0;31m       \u001b[0;32mreturn\u001b[0m \u001b[0mself\u001b[0m\u001b[0;34m.\u001b[0m\u001b[0m_numpy_internal\u001b[0m\u001b[0;34m(\u001b[0m\u001b[0;34m)\u001b[0m\u001b[0;34m\u001b[0m\u001b[0;34m\u001b[0m\u001b[0m\n\u001b[0m\u001b[1;32m   1190\u001b[0m     \u001b[0;32mexcept\u001b[0m \u001b[0mcore\u001b[0m\u001b[0;34m.\u001b[0m\u001b[0m_NotOkStatusException\u001b[0m \u001b[0;32mas\u001b[0m \u001b[0me\u001b[0m\u001b[0;34m:\u001b[0m  \u001b[0;31m# pylint: disable=protected-access\u001b[0m\u001b[0;34m\u001b[0m\u001b[0;34m\u001b[0m\u001b[0m\n\u001b[1;32m   1191\u001b[0m       \u001b[0;32mraise\u001b[0m \u001b[0mcore\u001b[0m\u001b[0;34m.\u001b[0m\u001b[0m_status_to_exception\u001b[0m\u001b[0;34m(\u001b[0m\u001b[0me\u001b[0m\u001b[0;34m)\u001b[0m \u001b[0;32mfrom\u001b[0m \u001b[0;32mNone\u001b[0m  \u001b[0;31m# pylint: disable=protected-access\u001b[0m\u001b[0;34m\u001b[0m\u001b[0;34m\u001b[0m\u001b[0m\n",
            "\u001b[0;31mKeyboardInterrupt\u001b[0m: "
          ]
        }
      ]
    },
    {
      "cell_type": "markdown",
      "source": [
        "#Evaluating"
      ],
      "metadata": {
        "id": "1qPHTz56Vgrp"
      }
    },
    {
      "cell_type": "code",
      "source": [
        "\n",
        "def generate_text(seed_text, model, max_sequence_len):\n",
        "    tokensizer=Tokenizer()\n",
        "    token_list = tokenizer.texts_to_sequences([seed_text])[0]\n",
        "    token_list = pad_sequences([token_list],maxlen=max_sequence_len-1, padding='pre')\n",
        "    predict_x=model.predict(token_list)[0]\n",
        "    output_word = \"\"\n",
        "    for i in predict_x:\n",
        "      for word,index in tokenizer.word_index.items():\n",
        "          if index == int(i):\n",
        "              output_word +=\" \"+ word\n",
        "              break\n",
        "    seed_text += \" -> \"+output_word\n",
        "    return seed_text.title()"
      ],
      "metadata": {
        "id": "T2_ByoIpC9bO"
      },
      "execution_count": null,
      "outputs": []
    },
    {
      "cell_type": "code",
      "source": [
        "rand=np.random.randint(0,high=df['cleaned_q'].shape[0],)\n",
        "text=\" \".join(df['cleaned_q'][rand])\n",
        "generate_text(text,model,max_sequence_len)"
      ],
      "metadata": {
        "id": "RNXKXlq_DL2D"
      },
      "execution_count": null,
      "outputs": []
    },
    {
      "cell_type": "code",
      "source": [
        "\" \".join(df['cleaned_q'][rand])"
      ],
      "metadata": {
        "id": "4u1G3uzdYN9d"
      },
      "execution_count": null,
      "outputs": []
    },
    {
      "cell_type": "code",
      "source": [],
      "metadata": {
        "id": "jio0ZATuJLtY"
      },
      "execution_count": null,
      "outputs": []
    },
    {
      "cell_type": "code",
      "source": [
        "x=np.arange(0,1500)\n",
        "y=x*2+np.random.randint(0,50)/10"
      ],
      "metadata": {
        "id": "KAEghPMjeTH0"
      },
      "execution_count": null,
      "outputs": []
    },
    {
      "cell_type": "code",
      "source": [
        "x[5],y[5]"
      ],
      "metadata": {
        "id": "vuRxt3VeIXqx"
      },
      "execution_count": null,
      "outputs": []
    },
    {
      "cell_type": "code",
      "source": [
        "model=Sequential()\n",
        "model.add(tf.keras.layers.Dense(10,input_shape=(1,)))\n",
        "model.add(tf.keras.layers.Dense(5))\n",
        "model.add(tf.keras.layers.Dense(1))"
      ],
      "metadata": {
        "id": "a_Y8HFrfIZkd"
      },
      "execution_count": null,
      "outputs": []
    },
    {
      "cell_type": "code",
      "source": [
        "model.compile(optimizer='adam',loss='mse')"
      ],
      "metadata": {
        "id": "Ne1jk4yzIzAq"
      },
      "execution_count": null,
      "outputs": []
    },
    {
      "cell_type": "code",
      "source": [
        "model.summary()"
      ],
      "metadata": {
        "id": "TZFSZkTPI3gs"
      },
      "execution_count": null,
      "outputs": []
    },
    {
      "cell_type": "code",
      "source": [
        "model.fit(x,y,epochs=50,validation_split=0.2,verbose=2)"
      ],
      "metadata": {
        "id": "m8V6j0AFI4i_"
      },
      "execution_count": null,
      "outputs": []
    },
    {
      "cell_type": "code",
      "source": [
        "model.predict([5])"
      ],
      "metadata": {
        "id": "4BTK8OTSJEoY"
      },
      "execution_count": null,
      "outputs": []
    },
    {
      "cell_type": "code",
      "source": [],
      "metadata": {
        "id": "1MMwyZHYJk40"
      },
      "execution_count": null,
      "outputs": []
    }
  ]
}